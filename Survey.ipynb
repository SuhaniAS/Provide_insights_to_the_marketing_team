{
 "cells": [
  {
   "cell_type": "code",
   "execution_count": null,
   "id": "26f0efbe",
   "metadata": {},
   "outputs": [],
   "source": [
    "#Library\n",
    "import pandas as pd"
   ]
  },
  {
   "cell_type": "code",
   "execution_count": 5,
   "id": "20016b15",
   "metadata": {},
   "outputs": [],
   "source": [
    "#import the data\n",
    "data_1 = pd.read_csv(r'D:\\Suhani\\Projects\\dim_repondents.csv')\n",
    "data_2 = pd.read_csv(r'D:\\Suhani\\Projects\\fact_survey_responses.csv')"
   ]
  },
  {
   "cell_type": "code",
   "execution_count": 6,
   "id": "7ba7b665",
   "metadata": {},
   "outputs": [
    {
     "name": "stdout",
     "output_type": "stream",
     "text": [
      "About Data_1\n",
      "<class 'pandas.core.frame.DataFrame'>\n",
      "RangeIndex: 10000 entries, 0 to 9999\n",
      "Data columns (total 5 columns):\n",
      " #   Column         Non-Null Count  Dtype \n",
      "---  ------         --------------  ----- \n",
      " 0   Respondent_ID  10000 non-null  int64 \n",
      " 1   Name           10000 non-null  object\n",
      " 2   Age            10000 non-null  object\n",
      " 3   Gender         10000 non-null  object\n",
      " 4   City_ID        10000 non-null  object\n",
      "dtypes: int64(1), object(4)\n",
      "memory usage: 390.8+ KB\n"
     ]
    }
   ],
   "source": [
    "#about the data_1\n",
    "print(\"About Data_1\")\n",
    "data_1.info()"
   ]
  },
  {
   "cell_type": "code",
   "execution_count": 7,
   "id": "7c92cee9",
   "metadata": {},
   "outputs": [
    {
     "name": "stdout",
     "output_type": "stream",
     "text": [
      "About Data_2\n",
      "<class 'pandas.core.frame.DataFrame'>\n",
      "RangeIndex: 10000 entries, 0 to 9999\n",
      "Data columns (total 23 columns):\n",
      " #   Column                          Non-Null Count  Dtype \n",
      "---  ------                          --------------  ----- \n",
      " 0   Response_ID                     10000 non-null  int64 \n",
      " 1   Respondent_ID                   10000 non-null  int64 \n",
      " 2   Consume_frequency               10000 non-null  object\n",
      " 3   Consume_time                    10000 non-null  object\n",
      " 4   Consume_reason                  10000 non-null  object\n",
      " 5   Heard_before                    10000 non-null  object\n",
      " 6   Brand_perception                10000 non-null  object\n",
      " 7   General_perception              10000 non-null  object\n",
      " 8   Tried_before                    10000 non-null  object\n",
      " 9   Taste_experience                10000 non-null  int64 \n",
      " 10  Reasons_preventing_trying       10000 non-null  object\n",
      " 11  Current_brands                  10000 non-null  object\n",
      " 12  Reasons_for_choosing_brands     10000 non-null  object\n",
      " 13  Improvements_desired            10000 non-null  object\n",
      " 14  Ingredients_expected            10000 non-null  object\n",
      " 15  Health_concerns                 10000 non-null  object\n",
      " 16  Interest_in_natural_or_organic  10000 non-null  object\n",
      " 17  Marketing_channels              10000 non-null  object\n",
      " 18  Packaging_preference            10000 non-null  object\n",
      " 19  Limited_edition_packaging       10000 non-null  object\n",
      " 20  Price_range                     10000 non-null  object\n",
      " 21  Purchase_location               10000 non-null  object\n",
      " 22  Typical_consumption_situations  10000 non-null  object\n",
      "dtypes: int64(3), object(20)\n",
      "memory usage: 1.8+ MB\n"
     ]
    }
   ],
   "source": [
    "#about the data_2\n",
    "print(\"About Data_2\")\n",
    "data_2.info()"
   ]
  },
  {
   "cell_type": "code",
   "execution_count": 8,
   "id": "1aa6df25",
   "metadata": {},
   "outputs": [
    {
     "data": {
      "text/plain": [
       "Respondent_ID    0\n",
       "Name             0\n",
       "Age              0\n",
       "Gender           0\n",
       "City_ID          0\n",
       "dtype: int64"
      ]
     },
     "execution_count": 8,
     "metadata": {},
     "output_type": "execute_result"
    }
   ],
   "source": [
    "#Check for empty cells\n",
    "data_1.isnull().sum()"
   ]
  },
  {
   "cell_type": "code",
   "execution_count": 9,
   "id": "37bdf1d3",
   "metadata": {},
   "outputs": [
    {
     "data": {
      "text/plain": [
       "Response_ID                       0\n",
       "Respondent_ID                     0\n",
       "Consume_frequency                 0\n",
       "Consume_time                      0\n",
       "Consume_reason                    0\n",
       "Heard_before                      0\n",
       "Brand_perception                  0\n",
       "General_perception                0\n",
       "Tried_before                      0\n",
       "Taste_experience                  0\n",
       "Reasons_preventing_trying         0\n",
       "Current_brands                    0\n",
       "Reasons_for_choosing_brands       0\n",
       "Improvements_desired              0\n",
       "Ingredients_expected              0\n",
       "Health_concerns                   0\n",
       "Interest_in_natural_or_organic    0\n",
       "Marketing_channels                0\n",
       "Packaging_preference              0\n",
       "Limited_edition_packaging         0\n",
       "Price_range                       0\n",
       "Purchase_location                 0\n",
       "Typical_consumption_situations    0\n",
       "dtype: int64"
      ]
     },
     "execution_count": 9,
     "metadata": {},
     "output_type": "execute_result"
    }
   ],
   "source": [
    "data_2.isnull().sum()"
   ]
  },
  {
   "cell_type": "code",
   "execution_count": null,
   "id": "63b68407",
   "metadata": {},
   "outputs": [],
   "source": []
  }
 ],
 "metadata": {
  "kernelspec": {
   "display_name": "Python 3 (ipykernel)",
   "language": "python",
   "name": "python3"
  },
  "language_info": {
   "codemirror_mode": {
    "name": "ipython",
    "version": 3
   },
   "file_extension": ".py",
   "mimetype": "text/x-python",
   "name": "python",
   "nbconvert_exporter": "python",
   "pygments_lexer": "ipython3",
   "version": "3.11.3"
  }
 },
 "nbformat": 4,
 "nbformat_minor": 5
}
